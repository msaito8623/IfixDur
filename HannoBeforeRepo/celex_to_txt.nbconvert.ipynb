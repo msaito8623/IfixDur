{
 "cells": [
  {
   "cell_type": "code",
   "execution_count": 1,
   "id": "3bcc286f",
   "metadata": {
    "execution": {
     "iopub.execute_input": "2023-03-29T12:11:04.853063Z",
     "iopub.status.busy": "2023-03-29T12:11:04.852227Z",
     "iopub.status.idle": "2023-03-29T12:11:04.855619Z",
     "shell.execute_reply": "2023-03-29T12:11:04.854930Z"
    }
   },
   "outputs": [],
   "source": [
    "#! usr/bin/python\n",
    "# celex_to_txt.py\n",
    "# H. Muller\n",
    "# 2022-01-25\n",
    "\n",
    "# Input: celex components\n",
    "# Output: celex components, but tab seperated without competing analyses"
   ]
  },
  {
   "cell_type": "code",
   "execution_count": 2,
   "id": "92004b93",
   "metadata": {
    "execution": {
     "iopub.execute_input": "2023-03-29T12:11:04.870460Z",
     "iopub.status.busy": "2023-03-29T12:11:04.869675Z",
     "iopub.status.idle": "2023-03-29T12:11:04.872582Z",
     "shell.execute_reply": "2023-03-29T12:11:04.873182Z"
    }
   },
   "outputs": [],
   "source": [
    "from os import environ\n",
    "\n",
    "# Parse arguments\n",
    "if environ.get('lemma'):\n",
    "    lemmaPath = environ.get('lemma')\n",
    "else:\n",
    "    lemmaPath = '../DataRaw/DML.CD'\n",
    "    \n",
    "if environ.get('form'):\n",
    "    formPath = environ.get('form')\n",
    "else:\n",
    "    formPath = '../DataRaw/DMW.CD'\n",
    "    \n",
    "if environ.get('phon'):\n",
    "    phonPath = environ.get('phon')\n",
    "else:\n",
    "    phonPath = '../DataRaw/DPW.CD'\n",
    "    \n",
    "if environ.get('outdir'):\n",
    "    outdir = environ.get('outdir')\n",
    "else:\n",
    "    outdir = '../DataProcessed'"
   ]
  },
  {
   "cell_type": "code",
   "execution_count": 3,
   "id": "822680c9",
   "metadata": {
    "execution": {
     "iopub.execute_input": "2023-03-29T12:11:04.882365Z",
     "iopub.status.busy": "2023-03-29T12:11:04.881475Z",
     "iopub.status.idle": "2023-03-29T12:11:05.713849Z",
     "shell.execute_reply": "2023-03-29T12:11:05.714342Z"
    }
   },
   "outputs": [],
   "source": [
    "import pandas as pd\n",
    "\n",
    "# Convert Celex component to pandas dataframe\n",
    "def pandas_conversion(comp, names):\n",
    "\n",
    "    # read component into pandas dataframe\n",
    "    temp=pd.read_csv(comp,sep='^',header=None,prefix='X')\n",
    "    temp2=temp.X0.str.split('\\\\',expand=True)\n",
    "    del temp['X0']\n",
    "    temp=pd.concat([temp,temp2],axis=1)\n",
    "\n",
    "    # remove parsing alternatives if present\n",
    "    temp=temp.iloc[:,:len(names)]\n",
    "    temp.columns = names\n",
    "\n",
    "    return(temp)"
   ]
  },
  {
   "cell_type": "code",
   "execution_count": 4,
   "id": "1d4e7fb4",
   "metadata": {
    "execution": {
     "iopub.execute_input": "2023-03-29T12:11:05.723907Z",
     "iopub.status.busy": "2023-03-29T12:11:05.723127Z",
     "iopub.status.idle": "2023-03-29T12:11:11.856363Z",
     "shell.execute_reply": "2023-03-29T12:11:11.855521Z"
    }
   },
   "outputs": [
    {
     "name": "stderr",
     "output_type": "stream",
     "text": [
      "/tmp/ipykernel_1815199/3739823912.py:7: FutureWarning: The prefix argument has been deprecated and will be removed in a future version. Use a list comprehension on the column names in the future.\n",
      "\n",
      "\n",
      "  temp=pd.read_csv(comp,sep='^',header=None,prefix='X')\n",
      "/tmp/ipykernel_1815199/3739823912.py:7: FutureWarning: The prefix argument has been deprecated and will be removed in a future version. Use a list comprehension on the column names in the future.\n",
      "\n",
      "\n",
      "  temp=pd.read_csv(comp,sep='^',header=None,prefix='X')\n",
      "/tmp/ipykernel_1815199/3739823912.py:7: FutureWarning: The prefix argument has been deprecated and will be removed in a future version. Use a list comprehension on the column names in the future.\n",
      "\n",
      "\n",
      "  temp=pd.read_csv(comp,sep='^',header=None,prefix='X')\n"
     ]
    }
   ],
   "source": [
    "# read files\n",
    "lemma = pandas_conversion(lemmaPath, names=['IdNumLemma', 'Head', 'Inl', 'MorphStatus', 'MorphCnt', 'DerComp', 'Comp', 'Def', 'Imm', 'ImmSubCat', 'ImmAllo', 'ImmSubst', 'StrucLab', 'StrucAllo', 'StrucSubst', 'Sepa'])\n",
    "form = pandas_conversion(formPath, names=['IdNum', 'Word', 'Inl', 'IdNumLemma', 'FlectType'])\n",
    "phon = pandas_conversion(phonPath, names=['IdNum', 'Word', 'Inl', 'IdNumLemma', 'PhonStrsDISC', 'PhonCVBr', 'PhonSylBCLX'])"
   ]
  },
  {
   "cell_type": "code",
   "execution_count": 5,
   "id": "123c4938",
   "metadata": {
    "execution": {
     "iopub.execute_input": "2023-03-29T12:11:11.866395Z",
     "iopub.status.busy": "2023-03-29T12:11:11.865661Z",
     "iopub.status.idle": "2023-03-29T12:11:11.903796Z",
     "shell.execute_reply": "2023-03-29T12:11:11.904218Z"
    }
   },
   "outputs": [
    {
     "data": {
      "text/html": [
       "<div>\n",
       "<style scoped>\n",
       "    .dataframe tbody tr th:only-of-type {\n",
       "        vertical-align: middle;\n",
       "    }\n",
       "\n",
       "    .dataframe tbody tr th {\n",
       "        vertical-align: top;\n",
       "    }\n",
       "\n",
       "    .dataframe thead th {\n",
       "        text-align: right;\n",
       "    }\n",
       "</style>\n",
       "<table border=\"1\" class=\"dataframe\">\n",
       "  <thead>\n",
       "    <tr style=\"text-align: right;\">\n",
       "      <th></th>\n",
       "      <th>IdNumLemma</th>\n",
       "      <th>Head</th>\n",
       "      <th>Inl</th>\n",
       "      <th>MorphStatus</th>\n",
       "      <th>MorphCnt</th>\n",
       "      <th>DerComp</th>\n",
       "      <th>Comp</th>\n",
       "      <th>Def</th>\n",
       "      <th>Imm</th>\n",
       "      <th>ImmSubCat</th>\n",
       "      <th>ImmAllo</th>\n",
       "      <th>ImmSubst</th>\n",
       "      <th>StrucLab</th>\n",
       "      <th>StrucAllo</th>\n",
       "      <th>StrucSubst</th>\n",
       "      <th>Sepa</th>\n",
       "    </tr>\n",
       "  </thead>\n",
       "  <tbody>\n",
       "    <tr>\n",
       "      <th>0</th>\n",
       "      <td>1</td>\n",
       "      <td>a</td>\n",
       "      <td>1986</td>\n",
       "      <td>M</td>\n",
       "      <td>1</td>\n",
       "      <td>Y</td>\n",
       "      <td>Y</td>\n",
       "      <td>Y</td>\n",
       "      <td>a</td>\n",
       "      <td>N</td>\n",
       "      <td>N</td>\n",
       "      <td>N</td>\n",
       "      <td>(a)[N]</td>\n",
       "      <td>N</td>\n",
       "      <td>N</td>\n",
       "      <td>N</td>\n",
       "    </tr>\n",
       "    <tr>\n",
       "      <th>1</th>\n",
       "      <td>2</td>\n",
       "      <td>a</td>\n",
       "      <td>1104</td>\n",
       "      <td>M</td>\n",
       "      <td>1</td>\n",
       "      <td>Y</td>\n",
       "      <td>Y</td>\n",
       "      <td>Y</td>\n",
       "      <td>a</td>\n",
       "      <td>P</td>\n",
       "      <td>N</td>\n",
       "      <td>N</td>\n",
       "      <td>(a)[P]</td>\n",
       "      <td>N</td>\n",
       "      <td>N</td>\n",
       "      <td>N</td>\n",
       "    </tr>\n",
       "    <tr>\n",
       "      <th>2</th>\n",
       "      <td>3</td>\n",
       "      <td>Aafje</td>\n",
       "      <td>41</td>\n",
       "      <td>I</td>\n",
       "      <td>0</td>\n",
       "      <td>Y</td>\n",
       "      <td>Y</td>\n",
       "      <td>Y</td>\n",
       "      <td></td>\n",
       "      <td></td>\n",
       "      <td></td>\n",
       "      <td></td>\n",
       "      <td></td>\n",
       "      <td></td>\n",
       "      <td></td>\n",
       "      <td>N</td>\n",
       "    </tr>\n",
       "    <tr>\n",
       "      <th>3</th>\n",
       "      <td>4</td>\n",
       "      <td>Aafke</td>\n",
       "      <td>4</td>\n",
       "      <td>I</td>\n",
       "      <td>0</td>\n",
       "      <td>Y</td>\n",
       "      <td>Y</td>\n",
       "      <td>Y</td>\n",
       "      <td></td>\n",
       "      <td></td>\n",
       "      <td></td>\n",
       "      <td></td>\n",
       "      <td></td>\n",
       "      <td></td>\n",
       "      <td></td>\n",
       "      <td>N</td>\n",
       "    </tr>\n",
       "    <tr>\n",
       "      <th>4</th>\n",
       "      <td>5</td>\n",
       "      <td>Aagje</td>\n",
       "      <td>9</td>\n",
       "      <td>I</td>\n",
       "      <td>0</td>\n",
       "      <td>Y</td>\n",
       "      <td>Y</td>\n",
       "      <td>Y</td>\n",
       "      <td></td>\n",
       "      <td></td>\n",
       "      <td></td>\n",
       "      <td></td>\n",
       "      <td></td>\n",
       "      <td></td>\n",
       "      <td></td>\n",
       "      <td>N</td>\n",
       "    </tr>\n",
       "  </tbody>\n",
       "</table>\n",
       "</div>"
      ],
      "text/plain": [
       "  IdNumLemma   Head   Inl MorphStatus MorphCnt DerComp Comp Def Imm ImmSubCat  \\\n",
       "0          1      a  1986           M        1       Y    Y   Y   a         N   \n",
       "1          2      a  1104           M        1       Y    Y   Y   a         P   \n",
       "2          3  Aafje    41           I        0       Y    Y   Y                 \n",
       "3          4  Aafke     4           I        0       Y    Y   Y                 \n",
       "4          5  Aagje     9           I        0       Y    Y   Y                 \n",
       "\n",
       "  ImmAllo ImmSubst StrucLab StrucAllo StrucSubst Sepa  \n",
       "0       N        N   (a)[N]         N          N    N  \n",
       "1       N        N   (a)[P]         N          N    N  \n",
       "2                                                   N  \n",
       "3                                                   N  \n",
       "4                                                   N  "
      ]
     },
     "execution_count": 5,
     "metadata": {},
     "output_type": "execute_result"
    }
   ],
   "source": [
    "lemma.head()"
   ]
  },
  {
   "cell_type": "code",
   "execution_count": 6,
   "id": "fed04bbb",
   "metadata": {
    "execution": {
     "iopub.execute_input": "2023-03-29T12:11:11.912540Z",
     "iopub.status.busy": "2023-03-29T12:11:11.911990Z",
     "iopub.status.idle": "2023-03-29T12:11:18.806943Z",
     "shell.execute_reply": "2023-03-29T12:11:18.806212Z"
    }
   },
   "outputs": [
    {
     "name": "stdout",
     "output_type": "stream",
     "text": [
      "Lemmas written to dml.txt; Forms written to dmw.txt; Transcriptions written to dpw.txt\n"
     ]
    }
   ],
   "source": [
    "from os import path\n",
    "    \n",
    "# save file to disk\n",
    "lemma.to_csv(path.join(outdir,'dml.txt'), sep='\\t')\n",
    "form.to_csv(path.join(outdir,'dmw.txt'), sep='\\t')\n",
    "phon.to_csv(path.join(outdir,'dpw.txt'), sep='\\t')\n",
    "    \n",
    "print(r'Lemmas written to dml.txt; Forms written to dmw.txt; Transcriptions written to dpw.txt')"
   ]
  }
 ],
 "metadata": {
  "kernelspec": {
   "display_name": "Python 3 (ipykernel)",
   "language": "python",
   "name": "python3"
  },
  "language_info": {
   "codemirror_mode": {
    "name": "ipython",
    "version": 3
   },
   "file_extension": ".py",
   "mimetype": "text/x-python",
   "name": "python",
   "nbconvert_exporter": "python",
   "pygments_lexer": "ipython3",
   "version": "3.8.10"
  }
 },
 "nbformat": 4,
 "nbformat_minor": 5
}
