{
 "cells": [
  {
   "cell_type": "code",
   "execution_count": 39,
   "id": "3bcc286f",
   "metadata": {},
   "outputs": [],
   "source": [
    "# celex_segmental_info_entropy.ipynb\n",
    "# H. Muller\n",
    "# 2023-05-29\n",
    "\n",
    "# Input: celex components and cgn\n",
    "# Output: compounds in cgn with information about relative frequency, paradigmatic probability, segmental information etc."
   ]
  },
  {
   "cell_type": "code",
   "execution_count": 40,
   "id": "92004b93",
   "metadata": {},
   "outputs": [],
   "source": [
    "from os import environ\n",
    "\n",
    "# Parse arguments\n",
    "if environ.get('lemma'):\n",
    "    lemmaPath = environ.get('lemma')\n",
    "else:\n",
    "    lemmaPath = '../DataProcessed/dml.txt'\n",
    "    \n",
    "if environ.get('word'):\n",
    "    wordPath = environ.get('word')\n",
    "else:\n",
    "    wordPath = '../DataProcessed/dmw.txt'  \n",
    "    \n",
    "if environ.get('phono'):\n",
    "    phonoPath = environ.get('phono')\n",
    "else:\n",
    "    phonoPath = '../DataProcessed/dpw.txt' \n",
    "    \n",
    "if environ.get('cgn'):\n",
    "    cgnPath = environ.get('cgn')\n",
    "else:\n",
    "    cgnPath = '../DataProcessed/cgn_predictors_comp-o.csv' \n",
    "\n",
    "if environ.get('outfile'):\n",
    "    outfile = environ.get('outfile')\n",
    "else:\n",
    "    outfile = '../DataProcessed/cgn_processed_comp-o.csv'"
   ]
  },
  {
   "cell_type": "code",
   "execution_count": 41,
   "id": "822680c9",
   "metadata": {},
   "outputs": [],
   "source": [
    "import pandas as pd\n",
    "\n",
    "# Read files\n",
    "lemma = pd.read_csv(lemmaPath, sep='\\t', header=0, index_col=0)\n",
    "word = pd.read_csv(wordPath, sep='\\t', header=0, index_col=0)\n",
    "phono = pd.read_csv(phonoPath, sep='\\t', header=0, index_col=0)\n",
    "cgn = pd.read_csv(cgnPath, sep='\\t', header=0, index_col=0)"
   ]
  },
  {
   "cell_type": "markdown",
   "id": "08602b52",
   "metadata": {},
   "source": [
    "# Compute segmental information"
   ]
  },
  {
   "cell_type": "code",
   "execution_count": 42,
   "id": "c27a1cfc",
   "metadata": {},
   "outputs": [],
   "source": [
    "phono['DISC'] = phono.PhonStrsDISC.str.replace(\"'\", \"\").str.replace('-', '')\n",
    "phono = phono.fillna('')"
   ]
  },
  {
   "cell_type": "code",
   "execution_count": 43,
   "id": "16da60b2",
   "metadata": {},
   "outputs": [
    {
     "name": "stdout",
     "output_type": "stream",
     "text": [
      "142049         jaren\n",
      "142050     jarenlang\n",
      "142051    jarenlange\n",
      "142054         jarig\n",
      "142055        jarige\n",
      "Name: Word, dtype: object\n",
      "141437                jaar\n",
      "141438      jaarabonnement\n",
      "141439    jaarabonnementen\n",
      "141440           jaarbasis\n",
      "141441         jaarbericht\n",
      "Name: Word, dtype: object\n"
     ]
    }
   ],
   "source": [
    "# check if I can find all types\n",
    "print(phono.loc[phono.DISC.str.startswith('jar@'), 'Word'].head())\n",
    "print(phono.loc[phono.DISC.str.startswith('jar'), 'Word'].head())"
   ]
  },
  {
   "cell_type": "code",
   "execution_count": 44,
   "id": "746c00dd",
   "metadata": {},
   "outputs": [
    {
     "data": {
      "application/vnd.jupyter.widget-view+json": {
       "model_id": "2c7e091028864742a5781323439c57cc",
       "version_major": 2,
       "version_minor": 0
      },
      "text/plain": [
       "Pandas Apply:   0%|          | 0/1846 [00:00<?, ?it/s]"
      ]
     },
     "metadata": {},
     "output_type": "display_data"
    },
    {
     "data": {
      "text/html": [
       "<div>\n",
       "<style scoped>\n",
       "    .dataframe tbody tr th:only-of-type {\n",
       "        vertical-align: middle;\n",
       "    }\n",
       "\n",
       "    .dataframe tbody tr th {\n",
       "        vertical-align: top;\n",
       "    }\n",
       "\n",
       "    .dataframe thead th {\n",
       "        text-align: right;\n",
       "    }\n",
       "</style>\n",
       "<table border=\"1\" class=\"dataframe\">\n",
       "  <thead>\n",
       "    <tr style=\"text-align: right;\">\n",
       "      <th></th>\n",
       "      <th>variant</th>\n",
       "      <th>WordOrtho</th>\n",
       "      <th>WordPhono</th>\n",
       "      <th>WordDuration</th>\n",
       "      <th>leftOrtho</th>\n",
       "      <th>Interfix</th>\n",
       "      <th>rightOrtho</th>\n",
       "      <th>leftPhonoCELEX</th>\n",
       "      <th>IfixPhonoCELEX</th>\n",
       "      <th>rightPhonoCELEX</th>\n",
       "      <th>...</th>\n",
       "      <th>SameLeftFQ</th>\n",
       "      <th>SameLeftDiffIfixFQ</th>\n",
       "      <th>RelFreq</th>\n",
       "      <th>SameLeftAndIfix</th>\n",
       "      <th>SameLeft</th>\n",
       "      <th>SameLeftDiffIfix</th>\n",
       "      <th>IfixNum</th>\n",
       "      <th>ParaProbType</th>\n",
       "      <th>RightPositionalEntropy</th>\n",
       "      <th>TypeSegmentalInfo</th>\n",
       "    </tr>\n",
       "  </thead>\n",
       "  <tbody>\n",
       "    <tr>\n",
       "      <th>0</th>\n",
       "      <td>Netherlandic</td>\n",
       "      <td>apekool</td>\n",
       "      <td>ap@kol</td>\n",
       "      <td>0.598</td>\n",
       "      <td>aap</td>\n",
       "      <td>e</td>\n",
       "      <td>kool</td>\n",
       "      <td>ap</td>\n",
       "      <td>@</td>\n",
       "      <td>kol</td>\n",
       "      <td>...</td>\n",
       "      <td>61.0</td>\n",
       "      <td>9.0</td>\n",
       "      <td>1.000000</td>\n",
       "      <td>9.0</td>\n",
       "      <td>11.0</td>\n",
       "      <td>2.0</td>\n",
       "      <td>2.0</td>\n",
       "      <td>0.818182</td>\n",
       "      <td>-0.000000</td>\n",
       "      <td>2.087463</td>\n",
       "    </tr>\n",
       "    <tr>\n",
       "      <th>1</th>\n",
       "      <td>Netherlandic</td>\n",
       "      <td>vrouwenstem</td>\n",
       "      <td>vrA+w@stEm</td>\n",
       "      <td>0.863</td>\n",
       "      <td>vrouw</td>\n",
       "      <td>en</td>\n",
       "      <td>stem</td>\n",
       "      <td>vrMw</td>\n",
       "      <td>@</td>\n",
       "      <td>stEm</td>\n",
       "      <td>...</td>\n",
       "      <td>311.0</td>\n",
       "      <td>2.0</td>\n",
       "      <td>0.428571</td>\n",
       "      <td>63.0</td>\n",
       "      <td>64.0</td>\n",
       "      <td>1.0</td>\n",
       "      <td>2.0</td>\n",
       "      <td>0.984375</td>\n",
       "      <td>1.295836</td>\n",
       "      <td>0.221127</td>\n",
       "    </tr>\n",
       "    <tr>\n",
       "      <th>2</th>\n",
       "      <td>Netherlandic</td>\n",
       "      <td>levenslustige</td>\n",
       "      <td>lev@slYst@G@</td>\n",
       "      <td>0.764</td>\n",
       "      <td>leven</td>\n",
       "      <td>s</td>\n",
       "      <td>lustige</td>\n",
       "      <td>lev@</td>\n",
       "      <td>s</td>\n",
       "      <td>l}st@G@</td>\n",
       "      <td>...</td>\n",
       "      <td>2639.0</td>\n",
       "      <td>0.0</td>\n",
       "      <td>0.129032</td>\n",
       "      <td>119.0</td>\n",
       "      <td>119.0</td>\n",
       "      <td>0.0</td>\n",
       "      <td>1.0</td>\n",
       "      <td>1.000000</td>\n",
       "      <td>0.753828</td>\n",
       "      <td>0.733285</td>\n",
       "    </tr>\n",
       "    <tr>\n",
       "      <th>3</th>\n",
       "      <td>Netherlandic</td>\n",
       "      <td>zonnegod</td>\n",
       "      <td>zOn@GOt</td>\n",
       "      <td>0.509</td>\n",
       "      <td>zon</td>\n",
       "      <td>e</td>\n",
       "      <td>god</td>\n",
       "      <td>zOn</td>\n",
       "      <td>@</td>\n",
       "      <td>GOt</td>\n",
       "      <td>...</td>\n",
       "      <td>2052.0</td>\n",
       "      <td>1139.0</td>\n",
       "      <td>1.000000</td>\n",
       "      <td>53.0</td>\n",
       "      <td>60.0</td>\n",
       "      <td>7.0</td>\n",
       "      <td>2.0</td>\n",
       "      <td>0.883333</td>\n",
       "      <td>-0.000000</td>\n",
       "      <td>1.208947</td>\n",
       "    </tr>\n",
       "    <tr>\n",
       "      <th>4</th>\n",
       "      <td>Netherlandic</td>\n",
       "      <td>zonnekind</td>\n",
       "      <td>zOn@kInt</td>\n",
       "      <td>0.558</td>\n",
       "      <td>zon</td>\n",
       "      <td>e</td>\n",
       "      <td>kind</td>\n",
       "      <td>zOn</td>\n",
       "      <td>@</td>\n",
       "      <td>kInt</td>\n",
       "      <td>...</td>\n",
       "      <td>NaN</td>\n",
       "      <td>NaN</td>\n",
       "      <td>NaN</td>\n",
       "      <td>NaN</td>\n",
       "      <td>NaN</td>\n",
       "      <td>NaN</td>\n",
       "      <td>NaN</td>\n",
       "      <td>NaN</td>\n",
       "      <td>NaN</td>\n",
       "      <td>1.208947</td>\n",
       "    </tr>\n",
       "  </tbody>\n",
       "</table>\n",
       "<p>5 rows × 29 columns</p>\n",
       "</div>"
      ],
      "text/plain": [
       "        variant      WordOrtho     WordPhono  WordDuration leftOrtho Interfix  \\\n",
       "0  Netherlandic        apekool        ap@kol         0.598       aap        e   \n",
       "1  Netherlandic    vrouwenstem    vrA+w@stEm         0.863     vrouw       en   \n",
       "2  Netherlandic  levenslustige  lev@slYst@G@         0.764     leven        s   \n",
       "3  Netherlandic       zonnegod       zOn@GOt         0.509       zon        e   \n",
       "4  Netherlandic      zonnekind      zOn@kInt         0.558       zon        e   \n",
       "\n",
       "  rightOrtho leftPhonoCELEX IfixPhonoCELEX rightPhonoCELEX  ... SameLeftFQ  \\\n",
       "0       kool             ap              @             kol  ...       61.0   \n",
       "1       stem           vrMw              @            stEm  ...      311.0   \n",
       "2    lustige           lev@              s         l}st@G@  ...     2639.0   \n",
       "3        god            zOn              @             GOt  ...     2052.0   \n",
       "4       kind            zOn              @            kInt  ...        NaN   \n",
       "\n",
       "  SameLeftDiffIfixFQ   RelFreq  SameLeftAndIfix  SameLeft  SameLeftDiffIfix  \\\n",
       "0                9.0  1.000000              9.0      11.0               2.0   \n",
       "1                2.0  0.428571             63.0      64.0               1.0   \n",
       "2                0.0  0.129032            119.0     119.0               0.0   \n",
       "3             1139.0  1.000000             53.0      60.0               7.0   \n",
       "4                NaN       NaN              NaN       NaN               NaN   \n",
       "\n",
       "   IfixNum  ParaProbType  RightPositionalEntropy  TypeSegmentalInfo  \n",
       "0      2.0      0.818182               -0.000000           2.087463  \n",
       "1      2.0      0.984375                1.295836           0.221127  \n",
       "2      1.0      1.000000                0.753828           0.733285  \n",
       "3      2.0      0.883333               -0.000000           1.208947  \n",
       "4      NaN           NaN                     NaN           1.208947  \n",
       "\n",
       "[5 rows x 29 columns]"
      ]
     },
     "execution_count": 44,
     "metadata": {},
     "output_type": "execute_result"
    }
   ],
   "source": [
    "import math\n",
    "\n",
    "# define a function to create the new columns\n",
    "def get_fraction(row):\n",
    "        left = row['leftPhonoCELEX']\n",
    "        interfix = row['IfixPhonoCELEX']\n",
    "        \n",
    "        # combine for computing numerator and denominator\n",
    "        numeratorStr = left + interfix\n",
    "        denominatorStr = left\n",
    "        \n",
    "        # compute segmental info\n",
    "        numerator = len(phono.loc[phono.DISC.str.startswith(numeratorStr), 'Word'].drop_duplicates())\n",
    "        denominator = len(phono.loc[phono.DISC.str.startswith(denominatorStr), 'Word'].drop_duplicates())\n",
    "        TypeSegmentalInfo = -1 * math.log(numerator / denominator, 2)\n",
    "        \n",
    "        return pd.Series([TypeSegmentalInfo])\n",
    "\n",
    "import swifter\n",
    "\n",
    "# apply the function to each row of the dataframe and create new columns\n",
    "cgn[['TypeSegmentalInfo']] = cgn.swifter.apply(get_fraction, axis=1)\n",
    "cgn.head()"
   ]
  },
  {
   "cell_type": "markdown",
   "id": "e2cf1c07",
   "metadata": {},
   "source": [
    "# write results to file"
   ]
  },
  {
   "cell_type": "code",
   "execution_count": 50,
   "id": "d543c38e-d4f2-4b66-a28a-f62e7975c8cb",
   "metadata": {},
   "outputs": [
    {
     "data": {
      "text/plain": [
       "Index(['variant', 'WordOrtho', 'WordPhono', 'WordDuration', 'leftOrtho',\n",
       "       'Interfix', 'rightOrtho', 'leftPhonoCELEX', 'IfixPhonoCELEX',\n",
       "       'rightPhonoCELEX', 'leftPhono', 'IfixPhono', 'rightPhono',\n",
       "       'LeftDuration', 'RightDuration', 'IfixDuration', 'SpeechRate',\n",
       "       'SubtlexAbsFreq', 'SameLeftAndIfixFQ', 'SameLeftFQ',\n",
       "       'SameLeftDiffIfixFQ', 'RelFreq', 'SameLeftAndIfix', 'SameLeft',\n",
       "       'SameLeftDiffIfix', 'IfixNum', 'ParaProbType', 'RightPositionalEntropy',\n",
       "       'TypeSegmentalInfo'],\n",
       "      dtype='object')"
      ]
     },
     "execution_count": 50,
     "metadata": {},
     "output_type": "execute_result"
    }
   ],
   "source": [
    "cgn.columns"
   ]
  },
  {
   "cell_type": "code",
   "execution_count": 51,
   "id": "7a87cf4c-ac17-489d-ac5d-24c42b18df14",
   "metadata": {},
   "outputs": [
    {
     "data": {
      "text/plain": [
       "Interfix\n",
       "s     1018\n",
       "en     740\n",
       "e       88\n",
       "Name: count, dtype: int64"
      ]
     },
     "execution_count": 51,
     "metadata": {},
     "output_type": "execute_result"
    }
   ],
   "source": [
    "cgn['Interfix'].value_counts()"
   ]
  },
  {
   "cell_type": "code",
   "execution_count": 52,
   "id": "72d2f5f0",
   "metadata": {},
   "outputs": [
    {
     "data": {
      "text/plain": [
       "['drieland',\n",
       " 'sportfonds',\n",
       " 'vijfjaar',\n",
       " 'prinsje',\n",
       " 'eengezin',\n",
       " 'driepunt',\n",
       " 'pandje',\n",
       " 'eenrichting',\n",
       " 'tweepersoon',\n",
       " 'conserve',\n",
       " 'klootje']"
      ]
     },
     "execution_count": 52,
     "metadata": {},
     "output_type": "execute_result"
    }
   ],
   "source": [
    "heads = list(set(lemma.Head))\n",
    "[x for x in list(set(cgn.leftOrtho)) if x not in heads ]"
   ]
  },
  {
   "cell_type": "code",
   "execution_count": 53,
   "id": "84a3deb8",
   "metadata": {},
   "outputs": [
    {
     "name": "stdout",
     "output_type": "stream",
     "text": [
      "cgn written to ../DataProcessed/cgn_processed_comp-o.csv\n"
     ]
    },
    {
     "name": "stderr",
     "output_type": "stream",
     "text": [
      "/vol/tensusers2/hmueller/WORKSTATION/VENV/lib/python3.10/site-packages/pandas/core/internals/blocks.py:2538: RuntimeWarning: invalid value encountered in cast\n",
      "  values = values.astype(str)\n"
     ]
    }
   ],
   "source": [
    "cgn.fillna('')\n",
    "cgn.to_csv(outfile, sep='\\t')\n",
    "print(f'cgn written to {outfile}')"
   ]
  }
 ],
 "metadata": {
  "kernelspec": {
   "display_name": "Python 3 (ipykernel)",
   "language": "python",
   "name": "python3"
  },
  "language_info": {
   "codemirror_mode": {
    "name": "ipython",
    "version": 3
   },
   "file_extension": ".py",
   "mimetype": "text/x-python",
   "name": "python",
   "nbconvert_exporter": "python",
   "pygments_lexer": "ipython3",
   "version": "3.10.12"
  }
 },
 "nbformat": 4,
 "nbformat_minor": 5
}
