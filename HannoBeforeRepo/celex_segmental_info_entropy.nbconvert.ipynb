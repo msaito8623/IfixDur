{
 "cells": [
  {
   "cell_type": "code",
   "execution_count": 1,
   "id": "3bcc286f",
   "metadata": {
    "execution": {
     "iopub.execute_input": "2023-09-21T12:33:15.675273Z",
     "iopub.status.busy": "2023-09-21T12:33:15.674570Z",
     "iopub.status.idle": "2023-09-21T12:33:15.679397Z",
     "shell.execute_reply": "2023-09-21T12:33:15.678624Z"
    }
   },
   "outputs": [],
   "source": [
    "# celex_segmental_info_entropy.ipynb\n",
    "# H. Muller\n",
    "# 2023-05-29\n",
    "\n",
    "# Input: celex components and cgn\n",
    "# Output: compounds in cgn with information about relative frequency, paradigmatic probability, segmental information etc."
   ]
  },
  {
   "cell_type": "code",
   "execution_count": 3,
   "id": "92004b93",
   "metadata": {},
   "outputs": [],
   "source": [
    "from os import environ\n",
    "\n",
    "# Parse arguments\n",
    "if environ.get('lemma'):\n",
    "    lemmaPath = environ.get('lemma')\n",
    "else:\n",
    "    lemmaPath = '../DataProcessed/dml.txt'\n",
    "    \n",
    "if environ.get('word'):\n",
    "    wordPath = environ.get('word')\n",
    "else:\n",
    "    wordPath = '../DataProcessed/dmw.txt'  \n",
    "    \n",
    "if environ.get('phono'):\n",
    "    phonoPath = environ.get('phono')\n",
    "else:\n",
    "    phonoPath = '../DataProcessed/dpw.txt' \n",
    "    \n",
    "if environ.get('cgn'):\n",
    "    cgnPath = environ.get('cgn')\n",
    "else:\n",
    "    cgnPath = '../DataProcessed/cgn_predictors_comp-o.csv' \n",
    "\n",
    "if environ.get('outfile'):\n",
    "    outfile = environ.get('outfile')\n",
    "else:\n",
    "    outfile = '../DataProcessed/cgn_processed_comp-o.csv'"
   ]
  },
  {
   "cell_type": "code",
   "execution_count": 2,
   "id": "822680c9",
   "metadata": {},
   "outputs": [],
   "source": [
    "import pandas as pd\n",
    "\n",
    "# Read files\n",
    "lemma = pd.read_csv(lemmaPath, sep='\\t', header=0, index_col=0)\n",
    "word = pd.read_csv(wordPath, sep='\\t', header=0, index_col=0)\n",
    "phono = pd.read_csv(phonoPath, sep='\\t', header=0, index_col=0)\n",
    "cgn = pd.read_csv(cgnPath, sep='\\t', header=0, index_col=0)"
   ]
  },
  {
   "cell_type": "markdown",
   "id": "08602b52",
   "metadata": {},
   "source": [
    "# Compute segmental information"
   ]
  },
  {
   "cell_type": "code",
   "execution_count": 4,
   "id": "c27a1cfc",
   "metadata": {
    "execution": {
     "iopub.execute_input": "2023-09-21T12:33:17.747194Z",
     "iopub.status.busy": "2023-09-21T12:33:17.746666Z",
     "iopub.status.idle": "2023-09-21T12:33:18.254426Z",
     "shell.execute_reply": "2023-09-21T12:33:18.252864Z"
    }
   },
   "outputs": [],
   "source": [
    "phono['DISC'] = phono.PhonStrsDISC.str.replace(\"'\", \"\").str.replace('-', '')\n",
    "phono = phono.fillna('')"
   ]
  },
  {
   "cell_type": "code",
   "execution_count": 5,
   "id": "16da60b2",
   "metadata": {
    "execution": {
     "iopub.execute_input": "2023-09-21T12:33:18.258285Z",
     "iopub.status.busy": "2023-09-21T12:33:18.257922Z",
     "iopub.status.idle": "2023-09-21T12:33:18.554551Z",
     "shell.execute_reply": "2023-09-21T12:33:18.553794Z"
    }
   },
   "outputs": [
    {
     "name": "stdout",
     "output_type": "stream",
     "text": [
      "142049         jaren\n",
      "142050     jarenlang\n",
      "142051    jarenlange\n",
      "142054         jarig\n",
      "142055        jarige\n",
      "Name: Word, dtype: object\n",
      "141437                jaar\n",
      "141438      jaarabonnement\n",
      "141439    jaarabonnementen\n",
      "141440           jaarbasis\n",
      "141441         jaarbericht\n",
      "Name: Word, dtype: object\n"
     ]
    }
   ],
   "source": [
    "# check if I can find all types\n",
    "print(phono.loc[phono.DISC.str.startswith('jar@'), 'Word'].head())\n",
    "print(phono.loc[phono.DISC.str.startswith('jar'), 'Word'].head())"
   ]
  },
  {
   "cell_type": "code",
   "execution_count": 6,
   "id": "746c00dd",
   "metadata": {
    "execution": {
     "iopub.execute_input": "2023-09-21T12:33:18.558188Z",
     "iopub.status.busy": "2023-09-21T12:33:18.557624Z",
     "iopub.status.idle": "2023-09-21T14:00:35.910174Z",
     "shell.execute_reply": "2023-09-21T14:00:35.909361Z"
    }
   },
   "outputs": [
    {
     "data": {
      "text/html": [
       "<div>\n",
       "<style scoped>\n",
       "    .dataframe tbody tr th:only-of-type {\n",
       "        vertical-align: middle;\n",
       "    }\n",
       "\n",
       "    .dataframe tbody tr th {\n",
       "        vertical-align: top;\n",
       "    }\n",
       "\n",
       "    .dataframe thead th {\n",
       "        text-align: right;\n",
       "    }\n",
       "</style>\n",
       "<table border=\"1\" class=\"dataframe\">\n",
       "  <thead>\n",
       "    <tr style=\"text-align: right;\">\n",
       "      <th></th>\n",
       "      <th>FileNameTierName</th>\n",
       "      <th>ID</th>\n",
       "      <th>WordOrtho</th>\n",
       "      <th>WordPhono</th>\n",
       "      <th>Phone</th>\n",
       "      <th>PhoneStart</th>\n",
       "      <th>PhoneEnd</th>\n",
       "      <th>variant</th>\n",
       "      <th>UtteranceBorder</th>\n",
       "      <th>UtteranceStart</th>\n",
       "      <th>...</th>\n",
       "      <th>WordEnd</th>\n",
       "      <th>leftPhonoLen</th>\n",
       "      <th>rightPhonoLen</th>\n",
       "      <th>IfixLen</th>\n",
       "      <th>PhoneDuration</th>\n",
       "      <th>WordDuration</th>\n",
       "      <th>LeftDuration</th>\n",
       "      <th>RightDuration</th>\n",
       "      <th>IfixDuration</th>\n",
       "      <th>TypeSegmentalInfo</th>\n",
       "    </tr>\n",
       "  </thead>\n",
       "  <tbody>\n",
       "    <tr>\n",
       "      <th>0</th>\n",
       "      <td>fn001092.awdN00551</td>\n",
       "      <td>182-apekool.</td>\n",
       "      <td>apekool</td>\n",
       "      <td>ap@kol</td>\n",
       "      <td>a</td>\n",
       "      <td>57.578</td>\n",
       "      <td>57.700</td>\n",
       "      <td>Netherlandic</td>\n",
       "      <td>False</td>\n",
       "      <td>55.054</td>\n",
       "      <td>...</td>\n",
       "      <td>58.176</td>\n",
       "      <td>2</td>\n",
       "      <td>3</td>\n",
       "      <td>1</td>\n",
       "      <td>0.122</td>\n",
       "      <td>0.598</td>\n",
       "      <td>0.193</td>\n",
       "      <td>0.354</td>\n",
       "      <td>0.051</td>\n",
       "      <td>2.087463</td>\n",
       "    </tr>\n",
       "    <tr>\n",
       "      <th>1</th>\n",
       "      <td>fn001092.awdN00551</td>\n",
       "      <td>182-apekool.</td>\n",
       "      <td>apekool</td>\n",
       "      <td>ap@kol</td>\n",
       "      <td>p</td>\n",
       "      <td>57.700</td>\n",
       "      <td>57.771</td>\n",
       "      <td>Netherlandic</td>\n",
       "      <td>False</td>\n",
       "      <td>55.054</td>\n",
       "      <td>...</td>\n",
       "      <td>58.176</td>\n",
       "      <td>2</td>\n",
       "      <td>3</td>\n",
       "      <td>1</td>\n",
       "      <td>0.071</td>\n",
       "      <td>0.598</td>\n",
       "      <td>0.193</td>\n",
       "      <td>0.354</td>\n",
       "      <td>0.051</td>\n",
       "      <td>2.087463</td>\n",
       "    </tr>\n",
       "    <tr>\n",
       "      <th>2</th>\n",
       "      <td>fn001092.awdN00551</td>\n",
       "      <td>182-apekool.</td>\n",
       "      <td>apekool</td>\n",
       "      <td>ap@kol</td>\n",
       "      <td>@</td>\n",
       "      <td>57.771</td>\n",
       "      <td>57.822</td>\n",
       "      <td>Netherlandic</td>\n",
       "      <td>False</td>\n",
       "      <td>55.054</td>\n",
       "      <td>...</td>\n",
       "      <td>58.176</td>\n",
       "      <td>2</td>\n",
       "      <td>3</td>\n",
       "      <td>1</td>\n",
       "      <td>0.051</td>\n",
       "      <td>0.598</td>\n",
       "      <td>0.193</td>\n",
       "      <td>0.354</td>\n",
       "      <td>0.051</td>\n",
       "      <td>2.087463</td>\n",
       "    </tr>\n",
       "    <tr>\n",
       "      <th>3</th>\n",
       "      <td>fn001092.awdN00551</td>\n",
       "      <td>182-apekool.</td>\n",
       "      <td>apekool</td>\n",
       "      <td>ap@kol</td>\n",
       "      <td>k</td>\n",
       "      <td>57.822</td>\n",
       "      <td>57.953</td>\n",
       "      <td>Netherlandic</td>\n",
       "      <td>False</td>\n",
       "      <td>55.054</td>\n",
       "      <td>...</td>\n",
       "      <td>58.176</td>\n",
       "      <td>2</td>\n",
       "      <td>3</td>\n",
       "      <td>1</td>\n",
       "      <td>0.131</td>\n",
       "      <td>0.598</td>\n",
       "      <td>0.193</td>\n",
       "      <td>0.354</td>\n",
       "      <td>0.051</td>\n",
       "      <td>2.087463</td>\n",
       "    </tr>\n",
       "    <tr>\n",
       "      <th>4</th>\n",
       "      <td>fn001092.awdN00551</td>\n",
       "      <td>182-apekool.</td>\n",
       "      <td>apekool</td>\n",
       "      <td>ap@kol</td>\n",
       "      <td>o</td>\n",
       "      <td>57.953</td>\n",
       "      <td>58.136</td>\n",
       "      <td>Netherlandic</td>\n",
       "      <td>False</td>\n",
       "      <td>55.054</td>\n",
       "      <td>...</td>\n",
       "      <td>58.176</td>\n",
       "      <td>2</td>\n",
       "      <td>3</td>\n",
       "      <td>1</td>\n",
       "      <td>0.183</td>\n",
       "      <td>0.598</td>\n",
       "      <td>0.193</td>\n",
       "      <td>0.354</td>\n",
       "      <td>0.051</td>\n",
       "      <td>2.087463</td>\n",
       "    </tr>\n",
       "  </tbody>\n",
       "</table>\n",
       "<p>5 rows × 40 columns</p>\n",
       "</div>"
      ],
      "text/plain": [
       "     FileNameTierName            ID WordOrtho WordPhono Phone  PhoneStart  \\\n",
       "0  fn001092.awdN00551  182-apekool.   apekool    ap@kol     a      57.578   \n",
       "1  fn001092.awdN00551  182-apekool.   apekool    ap@kol     p      57.700   \n",
       "2  fn001092.awdN00551  182-apekool.   apekool    ap@kol     @      57.771   \n",
       "3  fn001092.awdN00551  182-apekool.   apekool    ap@kol     k      57.822   \n",
       "4  fn001092.awdN00551  182-apekool.   apekool    ap@kol     o      57.953   \n",
       "\n",
       "   PhoneEnd       variant  UtteranceBorder  UtteranceStart  ...  WordEnd  \\\n",
       "0    57.700  Netherlandic            False          55.054  ...   58.176   \n",
       "1    57.771  Netherlandic            False          55.054  ...   58.176   \n",
       "2    57.822  Netherlandic            False          55.054  ...   58.176   \n",
       "3    57.953  Netherlandic            False          55.054  ...   58.176   \n",
       "4    58.136  Netherlandic            False          55.054  ...   58.176   \n",
       "\n",
       "   leftPhonoLen rightPhonoLen  IfixLen PhoneDuration WordDuration  \\\n",
       "0             2             3        1         0.122        0.598   \n",
       "1             2             3        1         0.071        0.598   \n",
       "2             2             3        1         0.051        0.598   \n",
       "3             2             3        1         0.131        0.598   \n",
       "4             2             3        1         0.183        0.598   \n",
       "\n",
       "   LeftDuration  RightDuration  IfixDuration TypeSegmentalInfo  \n",
       "0         0.193          0.354         0.051          2.087463  \n",
       "1         0.193          0.354         0.051          2.087463  \n",
       "2         0.193          0.354         0.051          2.087463  \n",
       "3         0.193          0.354         0.051          2.087463  \n",
       "4         0.193          0.354         0.051          2.087463  \n",
       "\n",
       "[5 rows x 40 columns]"
      ]
     },
     "execution_count": 6,
     "metadata": {},
     "output_type": "execute_result"
    }
   ],
   "source": [
    "import math\n",
    "\n",
    "# define a function to create the new columns\n",
    "def get_fraction(row):\n",
    "        left = row['leftPhonoCELEX']\n",
    "        interfix = row['IfixPhonoCELEX']\n",
    "        \n",
    "        # combine for computing numerator and denominator\n",
    "        numeratorStr = left + interfix\n",
    "        denominatorStr = left\n",
    "        \n",
    "        # compute segmental info\n",
    "        numerator = len(phono.loc[phono.DISC.str.startswith(numeratorStr), 'Word'].drop_duplicates())\n",
    "        denominator = len(phono.loc[phono.DISC.str.startswith(denominatorStr), 'Word'].drop_duplicates())\n",
    "        TypeSegmentalInfo = -1 * math.log(numerator / denominator, 2)\n",
    "        \n",
    "        return pd.Series([TypeSegmentalInfo])\n",
    "\n",
    "# apply the function to each row of the dataframe and create new columns\n",
    "cgn[['TypeSegmentalInfo']] = cgn.apply(get_fraction, axis=1)\n",
    "cgn.head()"
   ]
  },
  {
   "cell_type": "markdown",
   "id": "e2cf1c07",
   "metadata": {},
   "source": [
    "# write results to file"
   ]
  },
  {
   "cell_type": "code",
   "execution_count": 7,
   "id": "7a87cf4c-ac17-489d-ac5d-24c42b18df14",
   "metadata": {
    "execution": {
     "iopub.execute_input": "2023-09-21T14:00:35.919367Z",
     "iopub.status.busy": "2023-09-21T14:00:35.917713Z",
     "iopub.status.idle": "2023-09-21T14:00:35.926696Z",
     "shell.execute_reply": "2023-09-21T14:00:35.926081Z"
    }
   },
   "outputs": [
    {
     "data": {
      "text/plain": [
       "Interfix\n",
       "s     11809\n",
       "en     6709\n",
       "e       755\n",
       "Name: count, dtype: int64"
      ]
     },
     "execution_count": 7,
     "metadata": {},
     "output_type": "execute_result"
    }
   ],
   "source": [
    "cgn['Interfix'].value_counts()"
   ]
  },
  {
   "cell_type": "code",
   "execution_count": 8,
   "id": "72d2f5f0",
   "metadata": {
    "execution": {
     "iopub.execute_input": "2023-09-21T14:00:35.930114Z",
     "iopub.status.busy": "2023-09-21T14:00:35.929862Z",
     "iopub.status.idle": "2023-09-21T14:00:35.967472Z",
     "shell.execute_reply": "2023-09-21T14:00:35.966215Z"
    }
   },
   "outputs": [],
   "source": [
    "heads = list(set(lemma.Head))"
   ]
  },
  {
   "cell_type": "code",
   "execution_count": 9,
   "id": "ceb55146",
   "metadata": {
    "execution": {
     "iopub.execute_input": "2023-09-21T14:00:35.970888Z",
     "iopub.status.busy": "2023-09-21T14:00:35.970339Z",
     "iopub.status.idle": "2023-09-21T14:00:36.904780Z",
     "shell.execute_reply": "2023-09-21T14:00:36.904067Z"
    }
   },
   "outputs": [
    {
     "data": {
      "text/plain": [
       "['eenrichting',\n",
       " 'drieland',\n",
       " 'vijfjaar',\n",
       " 'driepunt',\n",
       " 'klootje',\n",
       " 'prinsje',\n",
       " 'pandje',\n",
       " 'tweepersoon',\n",
       " 'eengezin',\n",
       " 'sportfonds',\n",
       " 'conserve']"
      ]
     },
     "execution_count": 9,
     "metadata": {},
     "output_type": "execute_result"
    }
   ],
   "source": [
    "[x for x in list(set(cgn.leftOrtho)) if x not in heads ]"
   ]
  },
  {
   "cell_type": "code",
   "execution_count": 10,
   "id": "6a6a2ec7",
   "metadata": {
    "execution": {
     "iopub.execute_input": "2023-09-21T14:00:36.908466Z",
     "iopub.status.busy": "2023-09-21T14:00:36.907871Z",
     "iopub.status.idle": "2023-09-21T14:00:36.914027Z",
     "shell.execute_reply": "2023-09-21T14:00:36.913342Z"
    }
   },
   "outputs": [
    {
     "data": {
      "text/plain": [
       "Index(['FileNameTierName', 'ID', 'WordOrtho', 'WordPhono', 'Phone',\n",
       "       'PhoneStart', 'PhoneEnd', 'variant', 'UtteranceBorder',\n",
       "       'UtteranceStart', 'UtteranceEnd', 'UtteranceDuration', 'WordOrthoLow',\n",
       "       'WordSylNum', 'SegCV', 'WordCV', 'UtteranceID', 'UttSylNum',\n",
       "       'SpeechRate', 'leftOrtho', 'Interfix', 'rightOrtho', 'IfixPhono',\n",
       "       'leftPhono', 'rightPhono', 'wordPhonoCELEX', 'leftPhonoCELEX',\n",
       "       'IfixPhonoCELEX', 'rightPhonoCELEX', 'WordStart', 'WordEnd',\n",
       "       'leftPhonoLen', 'rightPhonoLen', 'IfixLen', 'PhoneDuration',\n",
       "       'WordDuration', 'LeftDuration', 'RightDuration', 'IfixDuration',\n",
       "       'TypeSegmentalInfo'],\n",
       "      dtype='object')"
      ]
     },
     "execution_count": 10,
     "metadata": {},
     "output_type": "execute_result"
    }
   ],
   "source": [
    "cgn.columns"
   ]
  },
  {
   "cell_type": "code",
   "execution_count": 11,
   "id": "84a3deb8",
   "metadata": {
    "execution": {
     "iopub.execute_input": "2023-09-21T14:00:36.917151Z",
     "iopub.status.busy": "2023-09-21T14:00:36.916738Z",
     "iopub.status.idle": "2023-09-21T14:00:37.445767Z",
     "shell.execute_reply": "2023-09-21T14:00:37.444909Z"
    }
   },
   "outputs": [],
   "source": [
    "cgn.to_csv(outfile, sep='\\t')"
   ]
  }
 ],
 "metadata": {
  "kernelspec": {
   "display_name": "Python 3 (ipykernel)",
   "language": "python",
   "name": "python3"
  },
  "language_info": {
   "codemirror_mode": {
    "name": "ipython",
    "version": 3
   },
   "file_extension": ".py",
   "mimetype": "text/x-python",
   "name": "python",
   "nbconvert_exporter": "python",
   "pygments_lexer": "ipython3",
   "version": "3.10.12"
  }
 },
 "nbformat": 4,
 "nbformat_minor": 5
}
