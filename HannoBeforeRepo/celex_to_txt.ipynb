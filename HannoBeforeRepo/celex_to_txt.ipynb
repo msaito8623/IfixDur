{
 "cells": [
  {
   "cell_type": "code",
   "execution_count": 1,
   "id": "3bcc286f",
   "metadata": {},
   "outputs": [],
   "source": [
    "#! usr/bin/python\n",
    "# celex_to_txt.py\n",
    "# H. Muller\n",
    "# 2022-01-25\n",
    "\n",
    "# Input: celex components\n",
    "# Output: celex components, but tab seperated without competing analyses"
   ]
  },
  {
   "cell_type": "code",
   "execution_count": 2,
   "id": "92004b93",
   "metadata": {},
   "outputs": [],
   "source": [
    "from os import environ\n",
    "\n",
    "# Parse arguments\n",
    "if environ.get('lemma'):\n",
    "    lemmaPath = environ.get('lemma')\n",
    "else:\n",
    "    lemmaPath = '../DataRaw/DML.CD'\n",
    "    \n",
    "if environ.get('form'):\n",
    "    formPath = environ.get('form')\n",
    "else:\n",
    "    formPath = '../DataRaw/DMW.CD'\n",
    "    \n",
    "if environ.get('phon'):\n",
    "    phonPath = environ.get('phon')\n",
    "else:\n",
    "    phonPath = '../DataRaw/DPW.CD'\n",
    "    \n",
    "if environ.get('outdir'):\n",
    "    outdir = environ.get('outdir')\n",
    "else:\n",
    "    outdir = '../DataProcessed'"
   ]
  },
  {
   "cell_type": "code",
   "execution_count": 3,
   "id": "822680c9",
   "metadata": {},
   "outputs": [],
   "source": [
    "import pandas as pd\n",
    "\n",
    "# Convert Celex component to pandas dataframe\n",
    "def pandas_conversion(comp, names):\n",
    "\n",
    "    # read component into pandas dataframe\n",
    "    temp=pd.read_csv(comp,sep='^',header=None,prefix='X')\n",
    "    temp2=temp.X0.str.split('\\\\',expand=True)\n",
    "    del temp['X0']\n",
    "    temp=pd.concat([temp,temp2],axis=1)\n",
    "\n",
    "    # remove parsing alternatives if present\n",
    "    temp=temp.iloc[:,:len(names)]\n",
    "    temp.columns = names\n",
    "\n",
    "    return(temp)"
   ]
  },
  {
   "cell_type": "code",
   "execution_count": 5,
   "id": "1d4e7fb4",
   "metadata": {},
   "outputs": [
    {
     "name": "stderr",
     "output_type": "stream",
     "text": [
      "/tmp/ipykernel_1813509/3739823912.py:7: FutureWarning: The prefix argument has been deprecated and will be removed in a future version. Use a list comprehension on the column names in the future.\n",
      "\n",
      "\n",
      "  temp=pd.read_csv(comp,sep='^',header=None,prefix='X')\n",
      "/tmp/ipykernel_1813509/3739823912.py:7: FutureWarning: The prefix argument has been deprecated and will be removed in a future version. Use a list comprehension on the column names in the future.\n",
      "\n",
      "\n",
      "  temp=pd.read_csv(comp,sep='^',header=None,prefix='X')\n",
      "/tmp/ipykernel_1813509/3739823912.py:7: FutureWarning: The prefix argument has been deprecated and will be removed in a future version. Use a list comprehension on the column names in the future.\n",
      "\n",
      "\n",
      "  temp=pd.read_csv(comp,sep='^',header=None,prefix='X')\n"
     ]
    }
   ],
   "source": [
    "# read files\n",
    "lemma = pandas_conversion(lemmaPath, names=['IdNumLemma', 'Head', 'Inl', 'MorphStatus', 'MorphCnt', 'DerComp', 'Comp', 'Def', 'Imm', 'ImmSubCat', 'ImmAllo', 'ImmSubst', 'StrucLab', 'StrucAllo', 'StrucSubst', 'Sepa'])\n",
    "form = pandas_conversion(formPath, names=['IdNum', 'Word', 'Inl', 'IdNumLemma', 'FlectType'])\n",
    "phon = pandas_conversion(phonPath, names=['IdNum', 'Word', 'Inl', 'IdNumLemma', 'PhonStrsDISC', 'PhonCVBr', 'PhonSylBCLX'])"
   ]
  },
  {
   "cell_type": "code",
   "execution_count": null,
   "id": "fed04bbb",
   "metadata": {},
   "outputs": [],
   "source": [
    "from os import path\n",
    "    \n",
    "# save file to disk\n",
    "lemma.to_csv(path.join(outdir,'dml.txt'), sep='\\t')\n",
    "form.to_csv(path.join(outdir,'dmw.txt'), sep='\\t')\n",
    "phon.to_csv(path.join(outdir,'dpw.txt'), sep='\\t')\n",
    "    \n",
    "print(r'Lemmas written to dml.txt; Forms written to dmw.txt; Transcriptions written to dpw.txt')"
   ]
  }
 ],
 "metadata": {
  "kernelspec": {
   "display_name": "Python 3 (ipykernel)",
   "language": "python",
   "name": "python3"
  },
  "language_info": {
   "codemirror_mode": {
    "name": "ipython",
    "version": 3
   },
   "file_extension": ".py",
   "mimetype": "text/x-python",
   "name": "python",
   "nbconvert_exporter": "python",
   "pygments_lexer": "ipython3",
   "version": "3.8.10"
  }
 },
 "nbformat": 4,
 "nbformat_minor": 5
}
